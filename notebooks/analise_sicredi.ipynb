{
 "cells": [
  {
   "cell_type": "markdown",
   "id": "462d02f3",
   "metadata": {},
   "source": [
    "Análises com arquivos csv antes dos tratamentos:"
   ]
  },
  {
   "cell_type": "code",
   "execution_count": null,
   "id": "55afb84e",
   "metadata": {},
   "outputs": [
    {
     "name": "stdout",
     "output_type": "stream",
     "text": [
      "Requirement already satisfied: seaborn in /usr/local/lib/python3.9/dist-packages (0.13.2)\n",
      "Requirement already satisfied: matplotlib in /usr/local/lib/python3.9/dist-packages (3.9.4)\n",
      "Requirement already satisfied: numpy!=1.24.0,>=1.20 in /usr/local/lib/python3.9/dist-packages (from seaborn) (2.0.2)\n",
      "Requirement already satisfied: pandas>=1.2 in /usr/local/lib/python3.9/dist-packages (from seaborn) (2.3.1)\n",
      "Requirement already satisfied: contourpy>=1.0.1 in /usr/local/lib/python3.9/dist-packages (from matplotlib) (1.3.0)\n",
      "Requirement already satisfied: cycler>=0.10 in /usr/local/lib/python3.9/dist-packages (from matplotlib) (0.12.1)\n",
      "Requirement already satisfied: fonttools>=4.22.0 in /usr/local/lib/python3.9/dist-packages (from matplotlib) (4.59.0)\n",
      "Requirement already satisfied: kiwisolver>=1.3.1 in /usr/local/lib/python3.9/dist-packages (from matplotlib) (1.4.7)\n",
      "Requirement already satisfied: packaging>=20.0 in /usr/local/lib/python3.9/dist-packages (from matplotlib) (25.0)\n",
      "Requirement already satisfied: pillow>=8 in /usr/local/lib/python3.9/dist-packages (from matplotlib) (11.3.0)\n",
      "Requirement already satisfied: pyparsing>=2.3.1 in /usr/local/lib/python3.9/dist-packages (from matplotlib) (3.2.3)\n",
      "Requirement already satisfied: python-dateutil>=2.7 in /usr/local/lib/python3.9/dist-packages (from matplotlib) (2.9.0.post0)\n",
      "Requirement already satisfied: importlib-resources>=3.2.0 in /usr/local/lib/python3.9/dist-packages (from matplotlib) (6.5.2)\n",
      "Requirement already satisfied: zipp>=3.1.0 in /usr/local/lib/python3.9/dist-packages (from importlib-resources>=3.2.0->matplotlib) (3.23.0)\n",
      "Requirement already satisfied: pytz>=2020.1 in /usr/local/lib/python3.9/dist-packages (from pandas>=1.2->seaborn) (2025.2)\n",
      "Requirement already satisfied: tzdata>=2022.7 in /usr/local/lib/python3.9/dist-packages (from pandas>=1.2->seaborn) (2025.2)\n",
      "Requirement already satisfied: six>=1.5 in /usr/local/lib/python3.9/dist-packages (from python-dateutil>=2.7->matplotlib) (1.17.0)\n",
      "\u001b[33mWARNING: Running pip as the 'root' user can result in broken permissions and conflicting behaviour with the system package manager, possibly rendering your system unusable. It is recommended to use a virtual environment instead: https://pip.pypa.io/warnings/venv. Use the --root-user-action option if you know what you are doing and want to suppress this warning.\u001b[0m\u001b[33m\n",
      "\u001b[0m"
     ]
    }
   ],
   "source": [
    "!pip install seaborn matplotlib"
   ]
  },
  {
   "cell_type": "code",
   "execution_count": null,
   "id": "fd9acbc0",
   "metadata": {},
   "outputs": [],
   "source": [
    "# Análise Descritiva \n",
    "# \n",
    "# Base: cooperativa, associado, conta, operacao\n",
    "\n",
    "# Importação de bibliotecas\n",
    "import pandas as pd\n",
    "import seaborn as sns\n",
    "import matplotlib.pyplot as plt"
   ]
  },
  {
   "cell_type": "code",
   "execution_count": null,
   "id": "3d43e624",
   "metadata": {},
   "outputs": [
    {
     "name": "stdout",
     "output_type": "stream",
     "text": [
      "Tabelas lidas com sucesso com Pandas!\n"
     ]
    }
   ],
   "source": [
    "# Leitura dos arquivos CSV com caminho absoluto\n",
    "df_cooperativa = pd.read_csv(\"/app/input/base_cooperativa.csv\", sep=\";\", encoding=\"latin-1\")\n",
    "df_associado   = pd.read_csv(\"/app/input/base_associado.csv\", sep=\";\", encoding=\"latin-1\")\n",
    "df_conta       = pd.read_csv(\"/app/input/base_conta.csv\", sep=\";\", encoding=\"latin-1\")\n",
    "df_operacao    = pd.read_csv(\"/app/input/base_operacao.csv\", sep=\";\", encoding=\"latin-1\")\n",
    "\n",
    "print(\"Tabelas lidas com sucesso com Pandas!\")"
   ]
  },
  {
   "cell_type": "code",
   "execution_count": null,
   "id": "584803e7",
   "metadata": {},
   "outputs": [],
   "source": [
    "# Tratamento e limpeza\n",
    "\n",
    "df_associado['data_nascimento'] = pd.to_datetime(df_associado['data_nascimento'], format='%d/%m/%Y', errors='coerce')\n",
    "df_associado['idade'] = ((pd.Timestamp.now() - df_associado['data_nascimento']).dt.days // 365)\n",
    "\n",
    "df_conta['data_abertura'] = pd.to_datetime(df_conta['data_abertura'], format='%d/%m/%Y', errors='coerce')\n",
    "\n",
    "df_operacao['data_liberacao']  = pd.to_datetime(df_operacao['data_liberacao'], format='%d/%m/%Y', errors='coerce')\n",
    "df_operacao['data_vencimento'] = pd.to_datetime(df_operacao['data_vencimento'], format='%d/%m/%Y', errors='coerce')\n",
    "df_operacao['data_referencia'] = pd.to_datetime(df_operacao['data_referencia'], format='%d/%m/%Y', errors='coerce')\n",
    "df_operacao['valor_operacao'] = pd.to_numeric(df_operacao['valor_operacao'], errors='coerce')\n",
    "df_operacao['valor_atualizado'] = pd.to_numeric(df_operacao['valor_atualizado'], errors='coerce')\n",
    "df_operacao['taxa_juros'] = pd.to_numeric(df_operacao['taxa_juros'], errors='coerce')"
   ]
  },
  {
   "cell_type": "code",
   "execution_count": null,
   "id": "32aea2d1",
   "metadata": {},
   "outputs": [
    {
     "name": "stdout",
     "output_type": "stream",
     "text": [
      "Associados:\n",
      "               id  id_cooperativa      cpf_cnpj              nome  \\\n",
      "count   13.000000       13.000000  1.300000e+01                13   \n",
      "unique        NaN             NaN           NaN                13   \n",
      "top           NaN             NaN           NaN  Marizete Pereira   \n",
      "freq          NaN             NaN           NaN                 1   \n",
      "mean    10.923077       11.923077  1.019038e+12               NaN   \n",
      "min      1.000000        1.000000  3.298521e+09               NaN   \n",
      "25%      4.000000        5.000000  9.899911e+09               NaN   \n",
      "50%      8.000000       19.000000  5.985211e+10               NaN   \n",
      "75%     16.000000       19.000000  9.085211e+10               NaN   \n",
      "max     31.000000       19.000000  1.259745e+13               NaN   \n",
      "std      9.313624        8.067027  3.479073e+12               NaN   \n",
      "\n",
      "                      data_nascimento      idade  \n",
      "count                              13  13.000000  \n",
      "unique                            NaN        NaN  \n",
      "top                               NaN        NaN  \n",
      "freq                              NaN        NaN  \n",
      "mean    1985-08-07 16:36:55.384615360  39.461538  \n",
      "min               1964-04-14 00:00:00  22.000000  \n",
      "25%               1971-06-18 00:00:00  28.000000  \n",
      "50%               1992-02-16 00:00:00  33.000000  \n",
      "75%               1996-09-15 00:00:00  54.000000  \n",
      "max               2003-05-30 00:00:00  61.000000  \n",
      "std                               NaN  15.202058  \n",
      "\n",
      "Contas:\n",
      "                id  id_associado      cod_conta        data_abertura\n",
      "count    13.000000     13.000000      13.000000                   12\n",
      "mean    169.076923      9.692308   37478.307692  2005-08-13 10:00:00\n",
      "min       1.000000      1.000000       1.000000  1980-03-21 00:00:00\n",
      "25%       5.000000      4.000000      21.000000  1994-12-29 18:00:00\n",
      "50%       9.000000      8.000000      28.000000  2006-10-03 12:00:00\n",
      "75%      22.000000     16.000000     259.000000  2016-10-28 06:00:00\n",
      "max    1987.000000     31.000000  485930.000000  2025-01-18 00:00:00\n",
      "std     546.710689      8.370430  134743.027668                  NaN\n",
      "\n",
      "Operações:\n",
      "               id    id_conta  id_cooperativa  cod_operacao  valor_operacao  \\\n",
      "count  111.000000  111.000000      111.000000    111.000000             0.0   \n",
      "mean     9.288288    9.306306        7.378378  24835.738739             NaN   \n",
      "min      1.000000    1.000000        1.000000   1882.000000             NaN   \n",
      "25%      5.000000    1.000000        1.000000  12848.500000             NaN   \n",
      "50%      8.000000    8.000000        5.000000  25684.000000             NaN   \n",
      "75%     15.000000   20.000000       19.000000  36333.000000             NaN   \n",
      "max     17.000000   25.000000       19.000000  43817.000000             NaN   \n",
      "std      5.268064    8.231638        7.615838  12802.386374             NaN   \n",
      "\n",
      "            data_liberacao                data_vencimento  qtd_parcelas  \\\n",
      "count                  111                            111    111.000000   \n",
      "mean   2024-03-16 00:00:00  2025-04-05 16:12:58.378378496     12.855856   \n",
      "min    2024-01-05 00:00:00            2024-05-03 00:00:00      3.000000   \n",
      "25%    2024-01-24 00:00:00            2024-10-08 00:00:00      6.000000   \n",
      "50%    2024-03-23 00:00:00            2024-12-30 00:00:00     12.000000   \n",
      "75%    2024-04-26 00:00:00            2025-05-20 00:00:00     12.000000   \n",
      "max    2024-05-25 00:00:00            2026-10-05 00:00:00     30.000000   \n",
      "std                    NaN                            NaN      7.843755   \n",
      "\n",
      "       taxa_juros  id_operacao  valor_atualizado  \\\n",
      "count         0.0   111.000000               0.0   \n",
      "mean          NaN     9.288288               NaN   \n",
      "min           NaN     1.000000               NaN   \n",
      "25%           NaN     5.000000               NaN   \n",
      "50%           NaN     8.000000               NaN   \n",
      "75%           NaN    15.000000               NaN   \n",
      "max           NaN    17.000000               NaN   \n",
      "std           NaN     5.268064               NaN   \n",
      "\n",
      "                     data_referencia  \n",
      "count                            111  \n",
      "mean   2024-07-19 21:11:21.081081088  \n",
      "min              2024-02-01 00:00:00  \n",
      "25%              2024-06-01 00:00:00  \n",
      "50%              2024-07-01 00:00:00  \n",
      "75%              2024-10-01 00:00:00  \n",
      "max              2024-12-01 00:00:00  \n",
      "std                              NaN  \n"
     ]
    }
   ],
   "source": [
    "# Estatísticas gerais\n",
    "\n",
    "print(\"Associados:\")\n",
    "print(df_associado.describe(include='all'))\n",
    "\n",
    "print(\"\\nContas:\")\n",
    "print(df_conta.describe(include='all'))\n",
    "\n",
    "print(\"\\nOperações:\")\n",
    "print(df_operacao.describe())"
   ]
  },
  {
   "cell_type": "code",
   "execution_count": null,
   "id": "0e4d795d",
   "metadata": {},
   "outputs": [
    {
     "data": {
      "image/png": "[encoded data removed]",
      "text/plain": [
       "<Figure size 1000x500 with 1 Axes>"
      ]
     },
     "metadata": {},
     "output_type": "display_data"
    }
   ],
   "source": [
    "# Distribuição da idade dos associados\n",
    "\n",
    "plt.figure(figsize=(10, 5))\n",
    "sns.histplot(df_associado['idade'].dropna(), bins=30, kde=True)\n",
    "plt.title(\"Distribuição de Idade dos Associados\")\n",
    "plt.xlabel(\"Idade\")\n",
    "plt.ylabel(\"Frequência\")\n",
    "plt.grid(True)\n",
    "plt.tight_layout()\n",
    "plt.show()"
   ]
  },
  {
   "cell_type": "code",
   "execution_count": null,
   "id": "88eda1c4",
   "metadata": {},
   "outputs": [
    {
     "data": {
      "image/png": "[encoded data removed]",
      "text/plain": [
       "<Figure size 1000x500 with 1 Axes>"
      ]
     },
     "metadata": {},
     "output_type": "display_data"
    }
   ],
   "source": [
    "# Inadimplência por mês\n",
    "\n",
    "df_operacao['ano_mes'] = df_operacao['data_referencia'].dt.to_period(\"M\")\n",
    "inad_mensal = df_operacao[df_operacao['situacao_atualizada'] == 'INADIMPLENTE'].groupby('ano_mes').size()\n",
    "\n",
    "plt.figure(figsize=(10, 5))\n",
    "inad_mensal.plot(kind='bar', color='tomato')\n",
    "plt.title(\"Quantidade de Operações Inadimplentes por Mês\")\n",
    "plt.ylabel(\"Quantidade\")\n",
    "plt.xlabel(\"Ano-Mês\")\n",
    "plt.xticks(rotation=45)\n",
    "plt.grid(True)\n",
    "plt.tight_layout()\n",
    "plt.show()"
   ]
  },
  {
   "cell_type": "code",
   "execution_count": null,
   "id": "c2d99349",
   "metadata": {},
   "outputs": [
    {
     "data": {
      "text/plain": [
       "<Axes: title={'center': 'Distribuição por faixa etária'}, xlabel='faixa_etaria'>"
      ]
     },
     "execution_count": 19,
     "metadata": {},
     "output_type": "execute_result"
    },
    {
     "data": {
      "image/png": "[encoded data removed]",
      "text/plain": [
       "<Figure size 640x480 with 1 Axes>"
      ]
     },
     "metadata": {},
     "output_type": "display_data"
    }
   ],
   "source": [
    "# Distribuição por faixa etária dos associados\n",
    "bins = [18, 30, 40, 50, 60, 70, 100]\n",
    "labels = ['18-29', '30-39', '40-49', '50-59', '60-69', '70+']\n",
    "df_associado['faixa_etaria'] = pd.cut(df_associado['idade'], bins=bins, labels=labels)\n",
    "df_associado['faixa_etaria'].value_counts().sort_index().plot(kind='bar', title=\"Distribuição por faixa etária\")"
   ]
  },
  {
   "cell_type": "markdown",
   "id": "d1625f79",
   "metadata": {},
   "source": [
    "Análises dos dados tratados Silver e Gold:"
   ]
  },
  {
   "cell_type": "code",
   "execution_count": null,
   "id": "320f9bd9",
   "metadata": {},
   "outputs": [
    {
     "name": "stdout",
     "output_type": "stream",
     "text": [
      "Função 'read_csv_from_datalake_pandas' definida.\n"
     ]
    }
   ],
   "source": [
    "# Criação da Função de Leitura\n",
    "\n",
    "def read_csv_from_datalake_pandas(path_suffix):\n",
    "    \"\"\"\n",
    "    Função para ler arquivos CSV específicos das camadas Silver/Gold do Data Lake com Pandas.\n",
    "    Args:\n",
    "        path_suffix (str): O sufixo do caminho para o arquivo CSV, ex: \"silver/dim_cooperativa/part-00000-....csv\"\n",
    "                           ou \"gold/inadimplencia_mensal/part-00000-....csv\".\n",
    "    Returns:\n",
    "        pd.DataFrame: O DataFrame do Pandas com os dados do CSV.\n",
    "    \"\"\"\n",
    "    base_path = \"/app/datalake/\"\n",
    "    full_path = f\"{base_path}{path_suffix}\"\n",
    "    return pd.read_csv(full_path, sep=\";\", encoding=\"latin-1\")\n",
    "\n",
    "print(\"Função 'read_csv_from_datalake_pandas' definida.\")"
   ]
  },
  {
   "cell_type": "code",
   "execution_count": null,
   "id": "fc3ca1bc",
   "metadata": {},
   "outputs": [
    {
     "name": "stdout",
     "output_type": "stream",
     "text": [
      "Todos os DataFrames das camadas Silver e Gold lidos com sucesso usando Pandas!\n",
      "Nomes das colunas padronizados para todos os DataFrames.\n"
     ]
    }
   ],
   "source": [
    "# Leitura dos DFs: Silver e Gold\n",
    "\n",
    "df_cooperativa = read_csv_from_datalake_pandas(\"silver/dim_cooperativa/part-00000-736a1732-5784-4259-bcf8-de66a6d9e6b3-c000.csv\")\n",
    "df_associado   = read_csv_from_datalake_pandas(\"silver/dim_associado/part-00000-dbb6cf1b-7e79-4af0-84bc-075e58148be8-c000.csv\")\n",
    "df_conta       = read_csv_from_datalake_pandas(\"silver/dim_conta/part-00000-d99bf633-dbf2-4138-bccf-4c82cad87811-c000.csv\")\n",
    "df_operacao    = read_csv_from_datalake_pandas(\"silver/fct_operacao_credito/part-00000-6aa64210-7f87-4fbc-a9e6-ec5f2ac8d098-c000.csv\")\n",
    "\n",
    "\n",
    "# --- Camada Gold ---\n",
    "df_inadimplencia_mensal = read_csv_from_datalake_pandas(\"gold/inadimplencia_mensal/part-00000-71d45545-ef3a-4293-8e45-a97ce12fe412-c000.csv\")\n",
    "df_inadimplencia_por_cooperativa = read_csv_from_datalake_pandas(\"gold/inadimplencia_por_cooperativa/part-00000-69b5343f-54fc-4515-b1b1-feab3d4395db-c000.csv\")\n",
    "df_media_idade_por_faixa = read_csv_from_datalake_pandas(\"gold/media_idade_por_faixa/part-00000-336dedeb-9d25-4f8c-9417-a66f23507b82-c000.csv\")\n",
    "\n",
    "print(\"Todos os DataFrames das camadas Silver e Gold lidos com sucesso usando Pandas!\")\n",
    "\n",
    "\n",
    "# Padronização de nomes de colunas\n",
    "def standardize_column_names(df):\n",
    "    df.columns = df.columns.str.strip().str.lower().str.replace(' ', '_')\n",
    "    return df\n",
    "\n",
    "df_cooperativa = standardize_column_names(df_cooperativa)\n",
    "df_associado = standardize_column_names(df_associado)\n",
    "df_conta = standardize_column_names(df_conta)\n",
    "df_operacao = standardize_column_names(df_operacao)\n",
    "df_inadimplencia_mensal = standardize_column_names(df_inadimplencia_mensal)\n",
    "df_inadimplencia_por_cooperativa = standardize_column_names(df_inadimplencia_por_cooperativa)\n",
    "df_media_idade_por_faixa = standardize_column_names(df_media_idade_por_faixa)\n",
    "\n",
    "print(\"Nomes das colunas padronizados para todos os DataFrames.\")"
   ]
  },
  {
   "cell_type": "code",
   "execution_count": null,
   "id": "0b5bc71e",
   "metadata": {},
   "outputs": [
    {
     "name": "stdout",
     "output_type": "stream",
     "text": [
      "Verificando tipos de dados inferidos por Pandas:\n",
      "\n",
      "--- df_cooperativa.info() ---\n",
      "<class 'pandas.core.frame.DataFrame'>\n",
      "RangeIndex: 3 entries, 0 to 2\n",
      "Data columns (total 1 columns):\n",
      " #   Column                     Non-Null Count  Dtype \n",
      "---  ------                     --------------  ----- \n",
      " 0   id,cod_entidade,nome_coop  3 non-null      object\n",
      "dtypes: object(1)\n",
      "memory usage: 152.0+ bytes\n",
      "\n",
      "--- df_associado.info() ---\n",
      "<class 'pandas.core.frame.DataFrame'>\n",
      "RangeIndex: 13 entries, 0 to 12\n",
      "Data columns (total 1 columns):\n",
      " #   Column                                                 Non-Null Count  Dtype \n",
      "---  ------                                                 --------------  ----- \n",
      " 0   id,id_cooperativa,cpf_cnpj,nome,data_nascimento,idade  13 non-null     object\n",
      "dtypes: object(1)\n",
      "memory usage: 232.0+ bytes\n",
      "\n",
      "--- df_conta.info() ---\n",
      "<class 'pandas.core.frame.DataFrame'>\n",
      "RangeIndex: 12 entries, 0 to 11\n",
      "Data columns (total 1 columns):\n",
      " #   Column                                   Non-Null Count  Dtype \n",
      "---  ------                                   --------------  ----- \n",
      " 0   id,id_associado,cod_conta,data_abertura  12 non-null     object\n",
      "dtypes: object(1)\n",
      "memory usage: 224.0+ bytes\n",
      "\n",
      "--- df_operacao.info() ---\n",
      "<class 'pandas.core.frame.DataFrame'>\n",
      "RangeIndex: 111 entries, 0 to 110\n",
      "Data columns (total 1 columns):\n",
      " #   Column                                                                                                                                                                          Non-Null Count  Dtype \n",
      "---  ------                                                                                                                                                                          --------------  ----- \n",
      " 0   id,id_conta,id_cooperativa,cod_operacao,valor_operacao,data_liberacao,data_vencimento,qtd_parcelas,taxa_juros,id_operacao,situacao_atualizada,valor_atualizado,data_referencia  111 non-null    object\n",
      "dtypes: object(1)\n",
      "memory usage: 1016.0+ bytes\n",
      "\n",
      "--- df_inadimplencia_mensal.info() ---\n",
      "<class 'pandas.core.frame.DataFrame'>\n",
      "RangeIndex: 11 entries, 0 to 10\n",
      "Data columns (total 1 columns):\n",
      " #   Column                    Non-Null Count  Dtype \n",
      "---  ------                    --------------  ----- \n",
      " 0   ano_mes,qtd_inadimplente  11 non-null     object\n",
      "dtypes: object(1)\n",
      "memory usage: 216.0+ bytes\n",
      "\n",
      "--- df_inadimplencia_por_cooperativa.info() ---\n",
      "<class 'pandas.core.frame.DataFrame'>\n",
      "RangeIndex: 2 entries, 0 to 1\n",
      "Data columns (total 1 columns):\n",
      " #   Column                           Non-Null Count  Dtype \n",
      "---  ------                           --------------  ----- \n",
      " 0   id_cooperativa,qtd_inadimplente  2 non-null      object\n",
      "dtypes: object(1)\n",
      "memory usage: 144.0+ bytes\n",
      "\n",
      "--- df_media_idade_por_faixa.info() ---\n",
      "<class 'pandas.core.frame.DataFrame'>\n",
      "RangeIndex: 5 entries, 0 to 4\n",
      "Data columns (total 1 columns):\n",
      " #   Column                    Non-Null Count  Dtype \n",
      "---  ------                    --------------  ----- \n",
      " 0   faixa_etaria,media_idade  5 non-null      object\n",
      "dtypes: object(1)\n",
      "memory usage: 168.0+ bytes\n",
      "\n",
      "Verificação de tipos concluída. Prossiga para a análise descritiva e visualizações.\n"
     ]
    }
   ],
   "source": [
    "# Verificando os Tipos de Dados (Pandas)\n",
    "\n",
    "print(\"Verificando tipos de dados inferidos por Pandas:\")\n",
    "\n",
    "print(\"\\n--- df_cooperativa.info() ---\")\n",
    "df_cooperativa.info()\n",
    "\n",
    "print(\"\\n--- df_associado.info() ---\")\n",
    "df_associado.info()\n",
    "\n",
    "print(\"\\n--- df_conta.info() ---\")\n",
    "df_conta.info()\n",
    "\n",
    "print(\"\\n--- df_operacao.info() ---\")\n",
    "df_operacao.info()\n",
    "\n",
    "print(\"\\n--- df_inadimplencia_mensal.info() ---\")\n",
    "df_inadimplencia_mensal.info()\n",
    "\n",
    "print(\"\\n--- df_inadimplencia_por_cooperativa.info() ---\")\n",
    "df_inadimplencia_por_cooperativa.info()\n",
    "\n",
    "print(\"\\n--- df_media_idade_por_faixa.info() ---\")\n",
    "df_media_idade_por_faixa.info()\n",
    "\n",
    "print(\"\\nVerificação de tipos concluída. Prossiga para a análise descritiva e visualizações.\")"
   ]
  },
  {
   "cell_type": "code",
   "execution_count": null,
   "id": "9cf7c682",
   "metadata": {},
   "outputs": [
    {
     "name": "stdout",
     "output_type": "stream",
     "text": [
      "Quantidade de registros por tabela:\n",
      "Cooperativa (Silver): 3\n",
      "Associado (Silver): 13\n",
      "Conta (Silver): 12\n",
      "Operação (Silver): 111\n",
      "\n",
      "--- Resumo Estatístico para df_associado (Silver) ---\n",
      "       id,id_cooperativa,cpf_cnpj,nome,data_nascimento,idade\n",
      "count                                                  13   \n",
      "unique                                                 13   \n",
      "top        1,1,59852106885,Marizete Pereira,1965-09-12,59   \n",
      "freq                                                    1   \n",
      "\n",
      "--- Resumo Estatístico para df_conta (Silver) ---\n",
      "       id,id_associado,cod_conta,data_abertura\n",
      "count                                       12\n",
      "unique                                      12\n",
      "top                  1,1,0000000001,1980-03-21\n",
      "freq                                         1\n",
      "\n",
      "--- Resumo Estatístico para df_operacao (Silver) ---\n",
      "       id,id_conta,id_cooperativa,cod_operacao,valor_operacao,data_liberacao,data_vencimento,qtd_parcelas,taxa_juros,id_operacao,situacao_atualizada,valor_atualizado,data_referencia\n",
      "count                                                 111                                                                                                                            \n",
      "unique                                                110                                                                                                                            \n",
      "top     13,25,19,0000036333,,2024-04-18,2026-10-05,30,...                                                                                                                            \n",
      "freq                                                    2                                                                                                                            \n"
     ]
    }
   ],
   "source": [
    "# Análise Descritiva Geral\n",
    "\n",
    "print(\"Quantidade de registros por tabela:\")\n",
    "\n",
    "print(\"Cooperativa (Silver):\", df_cooperativa.shape[0]) # Usando .shape[0] para a contagem de linhas\n",
    "\n",
    "print(\"Associado (Silver):\", df_associado.shape[0])\n",
    "\n",
    "print(\"Conta (Silver):\", df_conta.shape[0])\n",
    "\n",
    "print(\"Operação (Silver):\", df_operacao.shape[0])\n",
    "\n",
    "print(\"\\n--- Resumo Estatístico para df_associado (Silver) ---\")\n",
    "\n",
    "print(df_associado.describe(include='all'))\n",
    "\n",
    "print(\"\\n--- Resumo Estatístico para df_conta (Silver) ---\")\n",
    "\n",
    "print(df_conta.describe(include='all'))\n",
    "\n",
    "print(\"\\n--- Resumo Estatístico para df_operacao (Silver) ---\")\n",
    "\n",
    "print(df_operacao.describe(include='all'))"
   ]
  },
  {
   "cell_type": "code",
   "execution_count": null,
   "id": "24fc378f",
   "metadata": {},
   "outputs": [
    {
     "name": "stdout",
     "output_type": "stream",
     "text": [
      "--- Quantidade de Dados Nulos por DataFrame ---\n",
      "\n",
      "DataFrame: df_cooperativa\n",
      "id,cod_entidade,nome_coop    0\n",
      "dtype: int64\n",
      "\n",
      "DataFrame: df_associado\n",
      "id,id_cooperativa,cpf_cnpj,nome,data_nascimento,idade    0\n",
      "dtype: int64\n",
      "\n",
      "DataFrame: df_conta\n",
      "id,id_associado,cod_conta,data_abertura    0\n",
      "dtype: int64\n",
      "\n",
      "DataFrame: df_operacao\n",
      "id,id_conta,id_cooperativa,cod_operacao,valor_operacao,data_liberacao,data_vencimento,qtd_parcelas,taxa_juros,id_operacao,situacao_atualizada,valor_atualizado,data_referencia    0\n",
      "dtype: int64\n",
      "\n",
      "DataFrame: df_inadimplencia_mensal\n",
      "ano_mes,qtd_inadimplente    0\n",
      "dtype: int64\n",
      "\n",
      "DataFrame: df_inadimplencia_por_cooperativa\n",
      "id_cooperativa,qtd_inadimplente    0\n",
      "dtype: int64\n",
      "\n",
      "DataFrame: df_media_idade_por_faixa\n",
      "faixa_etaria,media_idade    0\n",
      "dtype: int64\n",
      "\n",
      "Verificação de nulos concluída.\n"
     ]
    }
   ],
   "source": [
    "# Verificando a Existência/Quantidade de Dados Nulos\n",
    "\n",
    "print(\"--- Quantidade de Dados Nulos por DataFrame ---\")\n",
    "\n",
    "print(\"\\nDataFrame: df_cooperativa\")\n",
    "print(df_cooperativa.isnull().sum())\n",
    "\n",
    "print(\"\\nDataFrame: df_associado\")\n",
    "print(df_associado.isnull().sum())\n",
    "\n",
    "print(\"\\nDataFrame: df_conta\")\n",
    "print(df_conta.isnull().sum())\n",
    "\n",
    "print(\"\\nDataFrame: df_operacao\")\n",
    "print(df_operacao.isnull().sum())\n",
    "\n",
    "print(\"\\nDataFrame: df_inadimplencia_mensal\")\n",
    "print(df_inadimplencia_mensal.isnull().sum())\n",
    "\n",
    "print(\"\\nDataFrame: df_inadimplencia_por_cooperativa\")\n",
    "print(df_inadimplencia_por_cooperativa.isnull().sum())\n",
    "\n",
    "print(\"\\nDataFrame: df_media_idade_por_faixa\")\n",
    "print(df_media_idade_por_faixa.isnull().sum())\n",
    "\n",
    "print(\"\\nVerificação de nulos concluída.\")"
   ]
  },
  {
   "cell_type": "code",
   "execution_count": null,
   "id": "bc50d53d",
   "metadata": {},
   "outputs": [
    {
     "name": "stdout",
     "output_type": "stream",
     "text": [
      "\n",
      "--- Quantidade de Dados Nulos por DataFrame (Camada Gold) ---\n",
      "\n",
      "DataFrame: df_inadimplencia_mensal\n",
      "ano_mes,qtd_inadimplente    0\n",
      "\n",
      "DataFrame: df_inadimplencia_por_cooperativa\n",
      "id_cooperativa,qtd_inadimplente    0\n",
      "\n",
      "DataFrame: df_media_idade_por_faixa\n",
      "faixa_etaria,media_idade    0\n",
      "\n",
      "Verificação de nulos concluída.\n"
     ]
    }
   ],
   "source": [
    "# Verificando a Existência e Quantidade de Dados Nulos: Gold\n",
    "\n",
    "print(\"\\n--- Quantidade de Dados Nulos por DataFrame (Camada Gold) ---\")\n",
    "\n",
    "print(\"\\nDataFrame: df_inadimplencia_mensal\")\n",
    "print(df_inadimplencia_mensal.isnull().sum().to_string())\n",
    "\n",
    "print(\"\\nDataFrame: df_inadimplencia_por_cooperativa\")\n",
    "print(df_inadimplencia_por_cooperativa.isnull().sum().to_string())\n",
    "\n",
    "print(\"\\nDataFrame: df_media_idade_por_faixa\")\n",
    "print(df_media_idade_por_faixa.isnull().sum().to_string())\n",
    "\n",
    "print(\"\\nVerificação de nulos concluída.\")\n"
   ]
  },
  {
   "cell_type": "code",
   "execution_count": null,
   "id": "e96d0cc8",
   "metadata": {},
   "outputs": [
    {
     "name": "stdout",
     "output_type": "stream",
     "text": [
      "--- Visão Geral e Quantidade de Registros (Camada Gold) ---\n",
      "\n",
      "DataFrame: df_inadimplencia_mensal\n",
      "<class 'pandas.core.frame.DataFrame'>\n",
      "RangeIndex: 11 entries, 0 to 10\n",
      "Data columns (total 1 columns):\n",
      " #   Column                    Non-Null Count  Dtype \n",
      "---  ------                    --------------  ----- \n",
      " 0   ano_mes,qtd_inadimplente  11 non-null     object\n",
      "dtypes: object(1)\n",
      "memory usage: 216.0+ bytes\n",
      "None\n",
      "Total de registros: 11\n",
      "  ano_mes,qtd_inadimplente\n",
      "0                2024-09,6\n",
      "1                2024-02,1\n",
      "2                2024-08,7\n",
      "3                2024-06,5\n",
      "4                2024-12,5\n",
      "\n",
      "DataFrame: df_inadimplencia_por_cooperativa\n",
      "<class 'pandas.core.frame.DataFrame'>\n",
      "RangeIndex: 2 entries, 0 to 1\n",
      "Data columns (total 1 columns):\n",
      " #   Column                           Non-Null Count  Dtype \n",
      "---  ------                           --------------  ----- \n",
      " 0   id_cooperativa,qtd_inadimplente  2 non-null      object\n",
      "dtypes: object(1)\n",
      "memory usage: 144.0+ bytes\n",
      "None\n",
      "Total de registros: 2\n",
      "  id_cooperativa,qtd_inadimplente\n",
      "0                            5,19\n",
      "1                            1,30\n",
      "\n",
      "DataFrame: df_media_idade_por_faixa\n",
      "<class 'pandas.core.frame.DataFrame'>\n",
      "RangeIndex: 5 entries, 0 to 4\n",
      "Data columns (total 1 columns):\n",
      " #   Column                    Non-Null Count  Dtype \n",
      "---  ------                    --------------  ----- \n",
      " 0   faixa_etaria,media_idade  5 non-null      object\n",
      "dtypes: object(1)\n",
      "memory usage: 168.0+ bytes\n",
      "None\n",
      "Total de registros: 5\n",
      "  faixa_etaria,media_idade\n",
      "0                  50,56.5\n",
      "1    30,31.666666666666668\n",
      "2                  20,23.5\n",
      "3                  60,60.5\n",
      "4                  40,45.0\n"
     ]
    }
   ],
   "source": [
    "# Visão Geral e Quantidade de Registros: Gold\n",
    "\n",
    "print(\"--- Visão Geral e Quantidade de Registros (Camada Gold) ---\")\n",
    "\n",
    "print(\"\\nDataFrame: df_inadimplencia_mensal\")\n",
    "print(df_inadimplencia_mensal.info())\n",
    "print(f\"Total de registros: {df_inadimplencia_mensal.shape[0]}\")\n",
    "print(df_inadimplencia_mensal.head())\n",
    "\n",
    "print(\"\\nDataFrame: df_inadimplencia_por_cooperativa\")\n",
    "print(df_inadimplencia_por_cooperativa.info())\n",
    "print(f\"Total de registros: {df_inadimplencia_por_cooperativa.shape[0]}\")\n",
    "print(df_inadimplencia_por_cooperativa.head())\n",
    "\n",
    "print(\"\\nDataFrame: df_media_idade_por_faixa\")\n",
    "print(df_media_idade_por_faixa.info())\n",
    "print(f\"Total de registros: {df_media_idade_por_faixa.shape[0]}\")\n",
    "print(df_media_idade_por_faixa.head())"
   ]
  }
 ],
 "metadata": {
  "kernelspec": {
   "display_name": "Python 3 (ipykernel)",
   "language": "python",
   "name": "python3"
  },
  "language_info": {
   "codemirror_mode": {
    "name": "ipython",
    "version": 3
   },
   "file_extension": ".py",
   "mimetype": "text/x-python",
   "name": "python",
   "nbconvert_exporter": "python",
   "pygments_lexer": "ipython3",
   "version": "3.9.2"
  }
 },
 "nbformat": 4,
 "nbformat_minor": 5
}
